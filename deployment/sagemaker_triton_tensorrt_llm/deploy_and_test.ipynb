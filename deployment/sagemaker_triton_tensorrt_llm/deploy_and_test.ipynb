{
 "cells": [
  {
   "cell_type": "markdown",
   "id": "e407f2b5-9a81-47b0-be7a-a7774e0b4ec5",
   "metadata": {},
   "source": [
    "## 0. 配置sagemaker，获取 account id 等"
   ]
  },
  {
   "cell_type": "code",
   "execution_count": null,
   "id": "68523e16-b576-401b-be82-d3deb43c21c4",
   "metadata": {
    "tags": []
   },
   "outputs": [],
   "source": [
    "import boto3\n",
    "import sagemaker\n",
    "from sagemaker import Model, image_uris, serializers, deserializers\n",
    "role = sagemaker.get_execution_role()\n",
    "sess = sagemaker.session.Session()  # sagemaker session for interacting with different AWS APIs\n",
    "region = sess._region_name # region name of the current SageMaker Studio environment\n",
    "account_id = sess.account_id()"
   ]
  },
  {
   "cell_type": "markdown",
   "id": "9180fa10-51bf-4d1a-a184-3824ed3fe1ab",
   "metadata": {},
   "source": [
    "## 1. 配置要调用的镜像\n",
    "\n",
    "之前 terminal 打包上传到 ECR 的镜像"
   ]
  },
  {
   "cell_type": "code",
   "execution_count": null,
   "id": "b5648f51-1032-49ce-9603-9a8e76ffacc1",
   "metadata": {
    "tags": []
   },
   "outputs": [],
   "source": [
    "# login\n",
    "!aws ecr get-login-password --region {region} | docker login --username AWS --password-stdin {account_id}.dkr.ecr.{region}.amazonaws.com\n",
    "\n",
    "\n",
    "REPO_NAME = \"sagemaker-endpoint/whisper-triton-byoc\"\n",
    "CONTAINER = f\"{account_id}.dkr.ecr.{region}.amazonaws.com/{REPO_NAME}:latest\"\n"
   ]
  },
  {
   "cell_type": "code",
   "execution_count": null,
   "id": "9e605039-b9ae-4d02-9b29-28d4cc69b174",
   "metadata": {
    "tags": []
   },
   "outputs": [],
   "source": [
    "!rm model_date.tar.gz\n",
    "!cat model_data/deploy_config.sh\n",
    "!tar czvf model_data.tar.gz model_data/ --exclude=model_data/.ipynb_checkpoints --exclude=model_data/__pycache__"
   ]
  },
  {
   "cell_type": "code",
   "execution_count": null,
   "id": "1e07dea3-5d6a-4807-879c-3523ab6b79e6",
   "metadata": {
    "tags": []
   },
   "outputs": [],
   "source": [
    "s3_code_prefix = f\"whisper_deploy_codes\"\n",
    "bucket = sess.default_bucket()\n",
    "code_artifact = sess.upload_data(\"model_data.tar.gz\", bucket, s3_code_prefix)\n",
    "print(f\"S3 Code or Model tar ball uploaded to --- > {code_artifact}\")"
   ]
  },
  {
   "cell_type": "markdown",
   "id": "06a99c5f-e8d1-44a2-ae81-f9120a325808",
   "metadata": {},
   "source": [
    "## 2. 使用 SSH-helper 进行调试（可选）\n",
    "\n",
    "Since we are using the BYOC (Bring Your Own Container) method to deploy model, we can deploy and debug the code using SSH Helper after preparing the initial code. Once the debugging is successful, we can then deploy it using the regular method.\n",
    "\n",
    "1. Deploy the model using SageMaker SSH Helper(Setting up your AWS account with IAM and SSM configuration)\n",
    "2. After got the instance_id, ssh to the instance and debug.\n",
    "\n",
    "\n",
    "在部署的时候使用 SSH-helper 进行推理调试，也会启动一个 sagemaker 实例，在不使用时，使用最后清理步骤，删除节点"
   ]
  },
  {
   "cell_type": "code",
   "execution_count": null,
   "id": "a5680eee-5535-4c68-bf9a-90abff0bd727",
   "metadata": {
    "collapsed": true,
    "jupyter": {
     "outputs_hidden": true
    },
    "tags": []
   },
   "outputs": [],
   "source": [
    "%pip install sagemaker_ssh_helper==2.2.0"
   ]
  },
  {
   "cell_type": "code",
   "execution_count": null,
   "id": "f26b7382-00f5-4eb4-82d4-5c3505426564",
   "metadata": {
    "tags": []
   },
   "outputs": [],
   "source": [
    "from sagemaker_ssh_helper.wrapper import SSHModelWrapper\n",
    "model = Model(image_uri=CONTAINER, model_data=code_artifact, role=role,dependencies=[SSHModelWrapper.dependency_dir()])"
   ]
  },
  {
   "cell_type": "code",
   "execution_count": null,
   "id": "2b35cad0-f33d-4cd2-b6d5-de8b26e092b1",
   "metadata": {
    "tags": []
   },
   "outputs": [],
   "source": [
    "from sagemaker_ssh_helper.wrapper import SSHModelWrapper\n",
    "from time import gmtime, strftime\n",
    "from sagemaker import Predictor\n",
    "instance_type = \"ml.g5.4xlarge\"\n",
    "# instance_type = \"ml.p4d.24xlarge\"\n",
    "endpoint_name = sagemaker.utils.name_from_base(\"whisper-trt-triton-sshelper\")\n",
    "\n",
    "ssh_wrapper = SSHModelWrapper.create(model, connection_wait_time_seconds=0)  # <--NEW--\n",
    "\n",
    "predictor = model.deploy(\n",
    "    initial_instance_count=1,\n",
    "    instance_type=instance_type,\n",
    "    endpoint_name=endpoint_name,\n",
    "    wait=False\n",
    ")\n",
    "\n",
    "\n",
    "# instance_ids = ssh_wrapper.get_instance_ids(timeout_in_sec=900)  # <--NEW-- \n",
    "# print(f\"To connect over SSM run: aws ssm start-session --target {instance_ids[0]}\")\n"
   ]
  },
  {
   "cell_type": "code",
   "execution_count": null,
   "id": "d4bfaa8f-4028-49fe-a70d-236c109e7107",
   "metadata": {
    "tags": []
   },
   "outputs": [],
   "source": [
    "import time\n",
    "sm_client = boto3.client(\"sagemaker\")\n",
    "resp = sm_client.describe_endpoint(EndpointName=endpoint_name)\n",
    "status = resp[\"EndpointStatus\"]\n",
    "print(\"Status: \" + status)\n",
    "\n",
    "while status == \"Creating\":\n",
    "    time.sleep(60)\n",
    "    resp = sm_client.describe_endpoint(EndpointName=endpoint_name)\n",
    "    status = resp[\"EndpointStatus\"]\n",
    "    print(\"Status: \" + status)\n",
    "\n",
    "print(\"Arn: \" + resp[\"EndpointArn\"])\n",
    "print(\"Status: \" + status)"
   ]
  },
  {
   "cell_type": "code",
   "execution_count": null,
   "id": "32a8d90b-f1f1-4a71-933e-bebf13053317",
   "metadata": {
    "tags": []
   },
   "outputs": [],
   "source": [
    "# aws ssm start-session --target <Your_instance_ids> \n",
    "instance_ids = ssh_wrapper.get_instance_ids(timeout_in_sec=0)\n",
    "print(instance_ids[0])"
   ]
  },
  {
   "cell_type": "markdown",
   "id": "801a7daa-35d0-4cf4-bff5-e99265917136",
   "metadata": {},
   "source": [
    "## 2. 正式部署"
   ]
  },
  {
   "cell_type": "code",
   "execution_count": null,
   "id": "245094f7-dab7-4a5f-8e05-b0720b19aea4",
   "metadata": {
    "tags": []
   },
   "outputs": [],
   "source": [
    "model = Model(\n",
    "    model_data=code_artifact,\n",
    "    image_uri=CONTAINER,\n",
    "    role=role,\n",
    ")\n",
    "\n",
    "# 部署模型到endpoint\n",
    "endpoint_name = sagemaker.utils.name_from_base(\"whisper-large-v3-turbo\")\n",
    "print(f\"endpoint_name: {endpoint_name}\")\n",
    "predictor = model.deploy(\n",
    "    initial_instance_count=1,\n",
    "    instance_type='ml.g5.4xlarge',\n",
    "    endpoint_name=endpoint_name,\n",
    ")"
   ]
  },
  {
   "cell_type": "markdown",
   "id": "61c4e660-4a0e-484c-9c50-2cc1079f174d",
   "metadata": {},
   "source": [
    "## 3. 推理调用测试"
   ]
  },
  {
   "cell_type": "code",
   "execution_count": null,
   "id": "a14c0755-0426-4c8f-a2aa-b351bc630c1d",
   "metadata": {
    "tags": []
   },
   "outputs": [],
   "source": [
    "%pip install pydub"
   ]
  },
  {
   "cell_type": "code",
   "execution_count": null,
   "id": "37ca368e-10f2-400f-9965-e56cf6a75d92",
   "metadata": {},
   "outputs": [],
   "source": [
    "import boto3\n",
    "import json\n",
    "import base64\n",
    "import os\n",
    "import io\n",
    "from pydub import AudioSegment\n",
    "\n",
    "endpoint_name = endpoint_name\n",
    "def encode_audio(audio_file_path):\n",
    "    # 加载音频文件\n",
    "    audio = AudioSegment.from_wav(audio_file_path)\n",
    "    \n",
    "    # 检查是否为双通道\n",
    "    if audio.channels == 2:\n",
    "        print(\"检测到双通道音频，正在转换为单通道...\")\n",
    "        # 将双通道转换为单通道\n",
    "        audio = audio.set_channels(1)\n",
    "    \n",
    "    # 将音频数据写入内存缓冲区\n",
    "    buffer = io.BytesIO()\n",
    "    audio.export(buffer, format=\"wav\")\n",
    "    buffer.seek(0)\n",
    "    \n",
    "    # 将缓冲区的内容编码为 base64\n",
    "    return base64.b64encode(buffer.read()).decode('utf-8')\n",
    "\n",
    "def invoke_sagemaker_endpoint(runtime_client, endpoint_name, audio_data, whisper_prompt=\"\"):\n",
    "    \"\"\"Invoke SageMaker endpoint with audio data\"\"\"\n",
    "    payload = {\n",
    "        \"whisper_prompt\": whisper_prompt,\n",
    "        \"audio_data\": audio_data\n",
    "    }\n",
    "    \n",
    "    response = runtime_client.invoke_endpoint(\n",
    "        EndpointName=endpoint_name,\n",
    "        ContentType='application/json',\n",
    "        Body=json.dumps(payload)\n",
    "    )\n",
    "    \n",
    "    result = json.loads(response['Body'].read().decode())\n",
    "    return result\n",
    "\n",
    "def transcribe_audio(audio_path, endpoint_name, whisper_prompt=\"\"):\n",
    "    # Convert audio to 16kHz mono WAV if it's not already\n",
    "    # Read and encode the audio file\n",
    "    print(\"Reading and encoding audio file...\")\n",
    "    audio_data = encode_audio(audio_path)\n",
    "\n",
    "    # Create a SageMaker runtime client\n",
    "    runtime_client = boto3.client('sagemaker-runtime')\n",
    "\n",
    "    # Invoke the SageMaker endpoint\n",
    "    print(f\"Invoking SageMaker endpoint: {endpoint_name}\")\n",
    "    result = invoke_sagemaker_endpoint(\n",
    "        runtime_client,\n",
    "        endpoint_name,\n",
    "        audio_data\n",
    "        whisper_prompt\n",
    "    )\n",
    "\n",
    "    return result\n",
    "\n",
    "# Example usage\n",
    "if __name__ == \"__main__\":\n",
    "    # Set your parameters here\n",
    "    audio_path = \"./audio.wav\"\n",
    "    whisper_prompt = \"\"  # Optional: add a prompt if needed, the defualt is <|startoftranscript|><|en|><|transcribe|><|notimestamps|>\n",
    "\n",
    "    # Call the function\n",
    "    result = transcribe_audio(audio_path, endpoint_name, whisper_prompt)\n",
    "\n",
    "    # Print the result\n",
    "    print(\"Transcription result:\")\n",
    "    print(result)\n"
   ]
  },
  {
   "cell_type": "code",
   "execution_count": null,
   "id": "22eabd2d-9707-45fb-9873-9d912ebca90a",
   "metadata": {},
   "outputs": [],
   "source": [
    "%%time\n",
    "audio_path = \"./audio.wav\"\n",
    "endpoint_name = endpoint_name # \"whisper-trt-triton-sshelper-2024-09-17-10-47-56-767\"\n",
    "whisper_prompt = \"\"  # Optional: add a prompt if needed\n",
    "\n",
    "# Call the function\n",
    "result = transcribe_audio(audio_path, endpoint_name, whisper_prompt)\n",
    "\n",
    "# Print the result\n",
    "print(\"Transcription result:\")\n",
    "print(result)"
   ]
  },
  {
   "cell_type": "code",
   "execution_count": null,
   "id": "1166f62f-da5f-4e83-b247-18ad0014b336",
   "metadata": {
    "tags": []
   },
   "outputs": [],
   "source": [
    "sess.delete_endpoint(endpoint_name)\n",
    "sess.delete_endpoint_config(endpoint_name)\n",
    "sess.delete_model(model.name)"
   ]
  }
 ],
 "metadata": {
  "kernelspec": {
   "display_name": "conda_pytorch_p310",
   "language": "python",
   "name": "conda_pytorch_p310"
  },
  "language_info": {
   "codemirror_mode": {
    "name": "ipython",
    "version": 3
   },
   "file_extension": ".py",
   "mimetype": "text/x-python",
   "name": "python",
   "nbconvert_exporter": "python",
   "pygments_lexer": "ipython3",
   "version": "3.10.14"
  }
 },
 "nbformat": 4,
 "nbformat_minor": 5
}
