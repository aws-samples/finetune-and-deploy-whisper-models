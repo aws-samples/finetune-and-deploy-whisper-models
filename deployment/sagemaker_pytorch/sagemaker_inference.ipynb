{
 "cells": [
  {
   "cell_type": "markdown",
   "id": "d4b8186e",
   "metadata": {},
   "source": [
    "## Create the model and deploy the model"
   ]
  },
  {
   "cell_type": "code",
   "execution_count": 63,
   "id": "8a108de6-1207-4bb8-bcb5-c155945a88be",
   "metadata": {
    "tags": []
   },
   "outputs": [
    {
     "name": "stderr",
     "output_type": "stream",
     "text": [
      "INFO:sagemaker:Repacking model artifact (s3://sagemaker-us-east-1-921656639050/tencent-whisper-lora-fine-tuning-2024-09-09-10-24-48/output/model.tar.gz), script artifact (/home/ec2-user/SageMaker/tencent_asr), and dependencies ([]) into single tar.gz file located at s3://sagemaker-us-east-1-921656639050/whisper-lora-model-1725948420/model.tar.gz. This may take some time depending on model size...\n",
      "INFO:sagemaker:Creating model with name: whisper-lora-model-1725948420\n",
      "INFO:sagemaker:Creating endpoint-config with name whisper-lora-endpoint\n",
      "INFO:sagemaker:Creating endpoint with name whisper-lora-endpoint\n"
     ]
    },
    {
     "name": "stdout",
     "output_type": "stream",
     "text": [
      "--------------!model deployed\n"
     ]
    }
   ],
   "source": [
    "import time\n",
    "import boto3\n",
    "import sagemaker\n",
    "from sagemaker.pytorch import PyTorchModel\n",
    "\n",
    "# 初始化 SageMaker 会话和 boto3 客户端\n",
    "sagemaker_session = sagemaker.Session()\n",
    "sm_client = boto3.client('sagemaker')\n",
    "role = sagemaker.get_execution_role()\n",
    "\n",
    "# 设置模型和端点名称\n",
    "model_data = 's3://sagemaker-us-east-1-921656639050/tencent-whisper-lora-fine-tuning-2024-09-09-10-24-48/output/model.tar.gz'\n",
    "model_name = f\"whisper-lora-model-{int(time.time())}\"\n",
    "endpoint_name = 'whisper-lora-endpoint'\n",
    "\n",
    "# 创建 PyTorch 模型\n",
    "pytorch_model = PyTorchModel(\n",
    "    model_data=model_data,\n",
    "    role=role,\n",
    "    entry_point='inference.py',\n",
    "    source_dir='/home/ec2-user/SageMaker/tencent_asr',\n",
    "    framework_version='2.3',\n",
    "    py_version='py311',\n",
    "    predictor_cls=sagemaker.predictor.Predictor,\n",
    "    name=model_name,\n",
    "    model_server_workers=4\n",
    ")\n",
    "\n",
    "# 部署模型\n",
    "pytorch_model.deploy(\n",
    "    instance_type='ml.g5.2xlarge',\n",
    "    initial_instance_count=1,\n",
    "    endpoint_name=endpoint_name\n",
    ")\n",
    "\n",
    "# 等待模型部署完成\n",
    "waiter = sm_client.get_waiter('endpoint_in_service')\n",
    "waiter.wait(EndpointName=endpoint_name)\n",
    "print('model deployed')"
   ]
  },
  {
   "cell_type": "markdown",
   "id": "e75fda73",
   "metadata": {},
   "source": [
    "## Update the SageMaker Endpoint"
   ]
  },
  {
   "cell_type": "code",
   "execution_count": 54,
   "id": "73bf231b-aac8-413c-861e-fcdef66f4041",
   "metadata": {
    "tags": []
   },
   "outputs": [],
   "source": [
    "# 创建新的端点配置\n",
    "new_config_name = f\"whisper-lora-config-{int(time.time())}\"\n",
    "create_config_response = sm_client.create_endpoint_config(\n",
    "    EndpointConfigName=new_config_name,\n",
    "    ProductionVariants=[{\n",
    "        'InstanceType': 'ml.g5.2xlarge',\n",
    "        'InitialInstanceCount': 1,\n",
    "        'ModelName': model_name,\n",
    "        'VariantName': 'AllTraffic'\n",
    "    }]\n",
    ")"
   ]
  },
  {
   "cell_type": "code",
   "execution_count": 55,
   "id": "b3879948-69df-4f19-b889-cb8d3fd00ef1",
   "metadata": {
    "tags": []
   },
   "outputs": [
    {
     "name": "stdout",
     "output_type": "stream",
     "text": [
      "Updating existing endpoint: whisper-lora-endpoint\n",
      "Endpoint whisper-lora-endpoint is now updated and in service.\n"
     ]
    }
   ],
   "source": [
    "# 检查端点是否存在\n",
    "try:\n",
    "    sm_client.describe_endpoint(EndpointName=endpoint_name)\n",
    "    endpoint_exists = True\n",
    "except sm_client.exceptions.ClientError:\n",
    "    endpoint_exists = False\n",
    "\n",
    "if endpoint_exists:\n",
    "    # 更新现有端点\n",
    "    print(f\"Updating existing endpoint: {endpoint_name}\")\n",
    "    sm_client.update_endpoint(\n",
    "        EndpointName=endpoint_name,\n",
    "        EndpointConfigName=new_config_name\n",
    "    )\n",
    "else:\n",
    "    # 创建新端点\n",
    "    print(f\"Creating new endpoint: {endpoint_name}\")\n",
    "    sm_client.create_endpoint(\n",
    "        EndpointName=endpoint_name,\n",
    "        EndpointConfigName=new_config_name\n",
    "    )\n",
    "\n",
    "# 等待端点更新完成\n",
    "waiter = sm_client.get_waiter('endpoint_in_service')\n",
    "waiter.wait(EndpointName=endpoint_name)\n",
    "\n",
    "print(f\"Endpoint {endpoint_name} is now updated and in service.\")"
   ]
  },
  {
   "cell_type": "markdown",
   "id": "f76c06d8",
   "metadata": {},
   "source": [
    "## Test the Endpoint with local query"
   ]
  },
  {
   "cell_type": "code",
   "execution_count": 66,
   "id": "a90ddcd0-755c-4965-998f-bd746867b314",
   "metadata": {
    "tags": []
   },
   "outputs": [
    {
     "name": "stdout",
     "output_type": "stream",
     "text": [
      "0 0.3879268169403076 {'transcription': 'I want to play Sawyer.'}\n",
      "1 0.3486473560333252 {'transcription': 'I want to play Sawyer.'}\n",
      "2 0.35468602180480957 {'transcription': 'I want to play Sawyer.'}\n",
      "3 0.3473360538482666 {'transcription': 'I want to play Sawyer.'}\n",
      "4 0.34491586685180664 {'transcription': 'I want to play Sawyer.'}\n",
      "5 0.3428187370300293 {'transcription': 'I want to play Sawyer.'}\n",
      "6 0.3446674346923828 {'transcription': 'I want to play Sawyer.'}\n",
      "7 0.3419368267059326 {'transcription': 'I want to play Sawyer.'}\n",
      "8 0.34696412086486816 {'transcription': 'I want to play Sawyer.'}\n",
      "9 0.3298470973968506 {'transcription': 'I want to play Sawyer.'}\n"
     ]
    }
   ],
   "source": [
    "# 请求，测试环境\n",
    "import boto3\n",
    "import json\n",
    "import librosa\n",
    "import numpy as np\n",
    "import io\n",
    "import time\n",
    "\n",
    "def prepare_audio(audio_file, target_sr=16000):\n",
    "    # 读取音频文件\n",
    "    audio, sr = librosa.load(audio_file, sr=target_sr)\n",
    "    \n",
    "    # 确保音频是单声道的 float32 类型\n",
    "    audio = audio.astype(np.float32)\n",
    "    \n",
    "    # 将 numpy 数组转换为字节\n",
    "    audio_bytes = audio.tobytes()\n",
    "    \n",
    "    return audio_bytes\n",
    "\n",
    "# 音频文件路径\n",
    "audio_file_path = './English_04.wav'  # 替换为你的音频文件路径\n",
    "\n",
    "# 准备音频数据\n",
    "audio_data = prepare_audio(audio_file_path)\n",
    "\n",
    "# 创建 SageMaker runtime 客户端\n",
    "runtime = boto3.client('runtime.sagemaker')\n",
    "\n",
    "for idx in range(10):\n",
    "    begin = time.time()\n",
    "    # 发送请求到端点\n",
    "    response = runtime.invoke_endpoint(\n",
    "        EndpointName='whisper-lora-endpoint',\n",
    "        ContentType='application/octet-stream',\n",
    "        Body=audio_data\n",
    "    )\n",
    "\n",
    "    # 解析响应\n",
    "    result = json.loads(response['Body'].read().decode())\n",
    "    end = time.time()\n",
    "    print(idx, end - begin, result)"
   ]
  }
 ],
 "metadata": {
  "kernelspec": {
   "display_name": "conda_pytorch_p310",
   "language": "python",
   "name": "conda_pytorch_p310"
  },
  "language_info": {
   "codemirror_mode": {
    "name": "ipython",
    "version": 3
   },
   "file_extension": ".py",
   "mimetype": "text/x-python",
   "name": "python",
   "nbconvert_exporter": "python",
   "pygments_lexer": "ipython3",
   "version": "3.10.14"
  }
 },
 "nbformat": 4,
 "nbformat_minor": 5
}
