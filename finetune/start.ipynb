{
 "cells": [
  {
   "cell_type": "code",
   "execution_count": null,
   "metadata": {},
   "outputs": [],
   "source": [
    "import sagemaker\n",
    "from sagemaker.pytorch import PyTorch\n",
    "\n",
    "sagemaker_session = sagemaker.Session()\n",
    "\n",
    "role = \"{your_arn_role}\"\n",
    "\n",
    "estimator = PyTorch(\n",
    "    entry_point='train.py',\n",
    "    role=role,\n",
    "    instance_count=1,\n",
    "    instance_type='ml.g5.2xlarge', \n",
    "    hyperparameters={\n",
    "        'model_name_or_path': 'openai/whisper-large-v3',\n",
    "        'language': 'English',\n",
    "        'task': 'transcribe',\n",
    "        'batch_size': 2,\n",
    "        'gradient_accumulation_steps': 1,\n",
    "        'learning_rate': 1e-3,\n",
    "        'num_epochs': 3,\n",
    "        'num_proc': 1\n",
    "    },\n",
    "    framework_version='2.3',\n",
    "    py_version='py311',\n",
    "    requirements_file='requirements.txt',\n",
    "    source_dir='/home/ec2-user/SageMaker/{your_source_dir}',\n",
    ")\n",
    "\n"
   ]
  },
  {
   "cell_type": "code",
   "execution_count": null,
   "metadata": {},
   "outputs": [],
   "source": [
    "import time\n",
    "data_path = '{your_s3_training_data_path}'\n",
    "estimator.fit(\n",
    "    inputs={'train': data_path},\n",
    "    job_name='whisper-lora-fine-tuning-' + time.strftime(\"%Y-%m-%d-%H-%M-%S\"),\n",
    ")"
   ]
  }
 ],
 "metadata": {
  "kernelspec": {
   "display_name": "tencent_poc",
   "language": "python",
   "name": "python3"
  },
  "language_info": {
   "codemirror_mode": {
    "name": "ipython",
    "version": 3
   },
   "file_extension": ".py",
   "mimetype": "text/x-python",
   "name": "python",
   "nbconvert_exporter": "python",
   "pygments_lexer": "ipython3",
   "version": "3.11.9"
  }
 },
 "nbformat": 4,
 "nbformat_minor": 2
}
